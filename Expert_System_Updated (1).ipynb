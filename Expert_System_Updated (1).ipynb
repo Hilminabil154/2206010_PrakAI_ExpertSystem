{
  "cells": [
    {
      "cell_type": "markdown",
      "metadata": {
        "id": "EnSPH2DGiRa4"
      },
      "source": [
        "*Sistem Pakar Diagonosa Penyakit *"
      ]
    },
    {
      "cell_type": "code",
      "execution_count": 3,
      "metadata": {
        "colab": {
          "base_uri": "https://localhost:8080/"
        },
        "id": "bC85O8ZCj3BO",
        "outputId": "a4efb67f-e6e6-4580-d899-efc34b6b4bef"
      },
      "outputs": [
        {
          "output_type": "stream",
          "name": "stdout",
          "text": [
            "yesRequirement already satisfied: experta in /usr/local/lib/python3.11/dist-packages (1.9.4)\n",
            "Requirement already satisfied: frozendict==1.2 in /usr/local/lib/python3.11/dist-packages (from experta) (1.2)\n",
            "Requirement already satisfied: schema==0.6.7 in /usr/local/lib/python3.11/dist-packages (from experta) (0.6.7)\n"
          ]
        }
      ],
      "source": [
        "!pip install experta"
      ]
    },
    {
      "cell_type": "code",
      "execution_count": 4,
      "metadata": {
        "colab": {
          "base_uri": "https://localhost:8080/"
        },
        "id": "iYnVs2aTkFOu",
        "outputId": "f59cfdb4-4e56-4958-ac38-23ae7df816dc"
      },
      "outputs": [
        {
          "output_type": "stream",
          "name": "stdout",
          "text": [
            "Requirement already satisfied: frozendict in /usr/local/lib/python3.11/dist-packages (1.2)\n",
            "Collecting frozendict\n",
            "  Using cached frozendict-2.4.6-py311-none-any.whl.metadata (23 kB)\n",
            "Using cached frozendict-2.4.6-py311-none-any.whl (16 kB)\n",
            "Installing collected packages: frozendict\n",
            "  Attempting uninstall: frozendict\n",
            "    Found existing installation: frozendict 1.2\n",
            "    Uninstalling frozendict-1.2:\n",
            "      Successfully uninstalled frozendict-1.2\n",
            "\u001b[31mERROR: pip's dependency resolver does not currently take into account all the packages that are installed. This behaviour is the source of the following dependency conflicts.\n",
            "experta 1.9.4 requires frozendict==1.2, but you have frozendict 2.4.6 which is incompatible.\u001b[0m\u001b[31m\n",
            "\u001b[0mSuccessfully installed frozendict-2.4.6\n"
          ]
        }
      ],
      "source": [
        "!pip install --upgrade frozendict"
      ]
    },
    {
      "cell_type": "code",
      "execution_count": 5,
      "metadata": {
        "colab": {
          "base_uri": "https://localhost:8080/"
        },
        "id": "QbgTg7WtjDuz",
        "outputId": "e5f633ff-f96a-476f-e6e4-be7427af4eae"
      },
      "outputs": [
        {
          "output_type": "stream",
          "name": "stdout",
          "text": [
            "Do you have a rash? (yes/no): no\n",
            "Have you lost your sense of smell? (yes/no): yes\n",
            "Are you sensitive to light? (yes/no): yes\n",
            "Do you feel chest tightness? (yes/no): yes\n",
            "Do you have a cough? (yes/no): yes\n",
            "Do you have a fever? (yes/no): yes\n",
            "Do you feel fatigued? (yes/no): yes\n",
            "Do you have breathing difficulties? (yes/no): yes\n",
            "Are you sneezing? (yes/no): yes\n",
            "Do you have a runny nose? (yes/no): yes\n",
            "Do you have a sore throat? (yes/no): yes\n",
            "apakah anda sakit perut? (yes/no): yes\n",
            "apakah apakah anda mual? (yes/no): yes\n",
            "apakah anda diare? (yes/no): yes\n",
            "Diagnosis: You may have Food Poisoning.\n",
            "Diagnosis: You may have Pneumonia.\n",
            "Diagnosis: You may have the Flu.\n"
          ]
        }
      ],
      "source": [
        "from experta import *\n",
        "\n",
        "class Diagnosis(KnowledgeEngine):\n",
        "\n",
        "    @Rule(Fact(cough=True) & Fact(fever=True) & Fact(fatigue=True))\n",
        "    def flu(self):\n",
        "        print(\"Diagnosis: You may have the Flu.\")\n",
        "\n",
        "    @Rule(Fact(cough=True) & Fact(fever=True) & Fact(breathing_difficulty=True))\n",
        "    def pneumonia(self):\n",
        "        print(\"Diagnosis: You may have Pneumonia.\")\n",
        "\n",
        "    @Rule(Fact(sneezing=True) & Fact(runny_nose=True) & Fact(cough=False))\n",
        "    def cold(self):\n",
        "        print(\"Diagnosis: You may have a Common Cold.\")\n",
        "\n",
        "    @Rule(Fact(sore_throat=True) & Fact(Fever=True))\n",
        "    def throat_infection(self):\n",
        "        print(\"Diagnosis: You may have a Throat Infection.\")\n",
        "\n",
        "    @Rule(Fact(cough=False) & Fact(fever=False) & Fact(fatigue=False))\n",
        "    def healthy(self):\n",
        "        print(\"Diagnosis: You seem to be healthy.\")\n",
        "\n",
        "    @Rule(Fact(stomachache=True) & Fact(nausea=True), Fact(diarrhea=True))\n",
        "    def food_poisoning(self):\n",
        "        print(\"Diagnosis: You may have Food Poisoning.\")\n",
        "\n",
        "def get_input():\n",
        "    \"\"\"Helper function to get user input as boolean (yes/no).\"\"\"\n",
        "    def ask_question(question):\n",
        "        return input(question + \" (yes/no): \").strip().lower() == \"yes\"\n",
        "\n",
        "    return {\n",
        "        \"rash\": ask_question(\"Do you have a rash?\"),\n",
        "        \"loss_of_smell\": ask_question(\"Have you lost your sense of smell?\"),\n",
        "        \"sensitivity_to_light\": ask_question(\"Are you sensitive to light?\"),\n",
        "        \"chest_tightness\": ask_question(\"Do you feel chest tightness?\"),\n",
        "        \"cough\": ask_question(\"Do you have a cough?\"),\n",
        "        \"fever\": ask_question(\"Do you have a fever?\"),\n",
        "        \"fatigue\": ask_question(\"Do you feel fatigued?\"),\n",
        "        \"breathing_difficulty\": ask_question(\"Do you have breathing difficulties?\"),\n",
        "        \"sneezing\": ask_question(\"Are you sneezing?\"),\n",
        "        \"runny_nose\": ask_question(\"Do you have a runny nose?\"),\n",
        "        \"sore_throat\": ask_question(\"Do you have a sore throat?\"),\n",
        "        \"stomachache\": ask_question(\"apakah anda sakit perut?\"),\n",
        "        \"nausea\": ask_question(\"apakah apakah anda mual?\"),\n",
        "        \"diarrhea\": ask_question(\"apakah anda diare?\")\n",
        "    }\n",
        "\n",
        "# Running the Expert System\n",
        "if __name__ == \"__main__\":\n",
        "    symptoms = get_input()\n",
        "    engine = Diagnosis()\n",
        "    engine.reset()  # Reset the knowledge engine\n",
        "\n",
        "    for symptom, present in symptoms.items():\n",
        "        engine.declare(Fact(**{symptom: present}))  # Declare facts\n",
        "\n",
        "    engine.run()  # Run the inference engine\n",
        "\n",
        "    @Rule(Fact(fever=True) & Fact(fatigue=True) & Fact(headache=True) & Fact(rash=True))\n",
        "    def dengue_fever(self):\n",
        "        print(\"Diagnosis: You may have Dengue Fever.\")\n",
        "\n",
        "    @Rule(Fact(cough=True) & Fact(fever=True) & Fact(fatigue=True) & Fact(loss_of_smell=True))\n",
        "    def covid19(self):\n",
        "        print(\"Diagnosis: You may have COVID-19.\")\n",
        "\n",
        "    @Rule(Fact(headache=True) & Fact(nausea=True) & Fact(sensitivity_to_light=True))\n",
        "    def migraine(self):\n",
        "        print(\"Diagnosis: You may have a Migraine.\")\n",
        "\n",
        "    @Rule(Fact(breathing_difficulty=True) & Fact(cough=True) & Fact(chest_tightness=True))\n",
        "    def asthma(self):\n",
        "        print(\"Diagnosis: You may have Asthma.\")\n"
      ]
    },
    {
      "cell_type": "markdown",
      "metadata": {
        "id": "G_9XURgSjKPn"
      },
      "source": [
        "**Sistem Pakar Konsultasi Karir**"
      ]
    },
    {
      "cell_type": "code",
      "execution_count": 6,
      "metadata": {
        "id": "JV1ORd-7jJXu"
      },
      "outputs": [],
      "source": [
        "# from experta import *\n",
        "\n",
        "# class CareerAdvisor(KnowledgeEngine):\n",
        "\n",
        "#     @Rule(Fact(logic=True) & Fact(math=True) & Fact(coding=True))\n",
        "#     def software_engineer(self):\n",
        "#         print(\"Recommended Career: Software Engineer\")\n",
        "\n",
        "#     @Rule(Fact(creative=True) & Fact(art=True) & Fact(tech=True))\n",
        "#     def graphic_designer(self):\n",
        "#         print(\"Recommended Career: Graphic Designer\")\n",
        "\n",
        "#     @Rule(Fact(social=True) & Fact(communication=True) & Fact(negotiation=True))\n",
        "#     def sales_manager(self):\n",
        "#         print(\"Recommended Career: Sales Manager\")\n",
        "\n",
        "#     @Rule(Fact(science=True) & Fact(problem_solving=True) & Fact(research=True))\n",
        "#     def scientist(self):\n",
        "#         print(\"Recommended Career: Scientist\")\n",
        "\n",
        "#     @Rule(Fact(helping_people=True) & Fact(medical=True) & Fact(science=True))\n",
        "#     def doctor(self):\n",
        "#         print(\"Recommended Career: Doctor\")\n",
        "\n",
        "#     @Rule(Fact(leadership=True) & Fact(management=True) & Fact(decision_making=True))\n",
        "#     def business_manager(self):\n",
        "#         print(\"Recommended Career: Business Manager\")\n",
        "\n",
        "#     @Rule(Fact(logic=False) & Fact(creative=False) & Fact(social=False) & Fact(science=False))\n",
        "#     def undecided(self):\n",
        "#         print(\"No strong career recommendation. Explore different fields!\")\n",
        "\n",
        "# def get_input():\n",
        "#     \"\"\"Helper function to get user input as boolean (yes/no).\"\"\"\n",
        "#     def ask_question(question):\n",
        "#         return input(question + \" (yes/no): \").strip().lower() == \"yes\"\n",
        "\n",
        "#     return { #The dictionary definition starts here. It should be aligned with the return statement\n",
        "#         \"rash\": ask_question(\"Do you have a rash?\"),\n",
        "#         \"loss_of_smell\": ask_question(\"Have you lost your sense of smell?\"),\n",
        "#         \"sensitivity_to_light\": ask_question(\"Are you sensitive to light?\"),\n",
        "#         \"chest_tightness\": ask_question(\"Do you feel chest tightness?\"),\n",
        "#         \"logic\": ask_question(\"Do you enjoy logical thinking?\"),\n",
        "#         \"math\": ask_question(\"Are you good at mathematics?\"),\n",
        "#         \"coding\": ask_question(\"Do you like programming?\"),\n",
        "#         \"creative\": ask_question(\"Are you a creative person?\"),\n",
        "#         \"art\": ask_question(\"Do you like art and design?\"),\n",
        "#         \"tech\": ask_question(\"Are you interested in technology?\"),\n",
        "#         \"social\": ask_question(\"Do you like interacting with people?\"),\n",
        "#         \"communication\": ask_question(\"Are you good at communication?\"),\n",
        "#         \"negotiation\": ask_question(\"Do you enjoy negotiating?\"),\n",
        "#         \"science\": ask_question(\"Are you interested in science?\"),\n",
        "#         \"problem_solving\": ask_question(\"Do you like solving complex problems?\"),\n",
        "#         \"research\": ask_question(\"Do you enjoy research?\"),\n",
        "#         \"helping_people\": ask_question(\"Do you like helping others?\"),\n",
        "#         \"medical\": ask_question(\"Are you interested in the medical field?\"),\n",
        "#         \"leadership\": ask_question(\"Do you have leadership skills?\"),\n",
        "#         \"management\": ask_question(\"Are you good at management?\"),\n",
        "#         \"decision_making\": ask_question(\"Are you confident in making decisions?\")\n",
        "#     }\n",
        "\n",
        "# # Running the Expert System\n",
        "# if __name__ == \"__main__\":\n",
        "#     user_answers = get_input()\n",
        "#     advisor = CareerAdvisor()\n",
        "#     advisor.reset()  # Reset the knowledge engine\n",
        "\n",
        "#     for trait, present in user_answers.items():\n",
        "#         advisor.declare(Fact(**{trait: present}))  # Declare facts\n",
        "\n",
        "#     advisor.run()  # Run the inference engine"
      ]
    },
    {
      "cell_type": "markdown",
      "metadata": {
        "id": "SkyUEO_GjXbU"
      },
      "source": [
        "**Forward Chaining**"
      ]
    },
    {
      "cell_type": "code",
      "execution_count": 9,
      "metadata": {
        "colab": {
          "base_uri": "https://localhost:8080/"
        },
        "id": "Q-dPn41ZjXCE",
        "outputId": "631a4602-5d2e-42d3-f404-36617042cd0b"
      },
      "outputs": [
        {
          "output_type": "stream",
          "name": "stdout",
          "text": [
            "maot didinya mah\n"
          ]
        }
      ],
      "source": [
        "from experta import *\n",
        "\n",
        "class SistemPakarMedis(KnowledgeEngine):\n",
        "\n",
        "    @Rule(Fact(demam=True) & Fact(batuk=True))\n",
        "    def flu(self):\n",
        "        print(\"Diagnosis: Flu.\")\n",
        "\n",
        "    @Rule(Fact(sakit_tengorokan=True) & Fact(demam=True))\n",
        "    def throat_infection(self):\n",
        "        print(\"Diagnosis: Radang Tengorokan.\")\n",
        "\n",
        "    @Rule(Fact(nyeri_otot=True) & Fact(nyeri_perut=True))\n",
        "    def hernia(self):\n",
        "      print(\"Diagnosis: Hernia.\")\n",
        "\n",
        "    @Rule(Fact(kanker=True) & Fact(tbc=True) & Fact(tipus=True) & Fact(tumor=True))\n",
        "    def mati(self):\n",
        "      print(\"Anda Meninggal\")\n",
        "\n",
        "# Running the Expert System\n",
        "engine = SistemPakarMedis()\n",
        "engine.reset()\n",
        "engine.declare(Fact(kanker=True))\n",
        "engine.declare(Fact(tbc=True))\n",
        "engine.declare(Fact(tipus=True))\n",
        "engine.declare(Fact(tumor=True))  # Input symptoms\n",
        "engine.run()\n"
      ]
    },
    {
      "cell_type": "code",
      "execution_count": 10,
      "metadata": {
        "colab": {
          "base_uri": "https://localhost:8080/"
        },
        "id": "d7vKZ572Ack2",
        "outputId": "26992617-431d-423f-d429-16a6d86cd573"
      },
      "outputs": [
        {
          "output_type": "stream",
          "name": "stdout",
          "text": [
            "Decision: Anda Tidak Memenuhi Syarat untuk Mendapatkan Pinjaman.\n"
          ]
        }
      ],
      "source": [
        "from experta import *\n",
        "\n",
        "class Pendaftar(Fact):\n",
        "    \"\"\"Applicant details for loan checking.\"\"\"\n",
        "    pass\n",
        "\n",
        "class SistemPakarPinjamanBank(KnowledgeEngine):\n",
        "    @Rule(Pendaftar(pendapatan='tinggi'), Pendaftar(kredit='bagus'))\n",
        "    def eligible(self):\n",
        "        print(\"Decision: Anda Memenuhi Syarat untuk Mendapatkan Pinjaman.\")\n",
        "\n",
        "    @Rule(OR(Pendaftar(pendapatan='rendah'), Pendaftar(kredit='buruk')))\n",
        "    def not_eligible(self):\n",
        "        print(\"Decision: Anda Tidak Memenuhi Syarat untuk Mendapatkan Pinjaman.\")\n",
        "\n",
        "engine = SistemPakarPinjamanBank()\n",
        "engine.reset()\n",
        "\n",
        "# Insert applicant's details\n",
        "engine.declare(Pendaftar(pendapatan='tinggi'))\n",
        "engine.declare(Pendaftar(kredit='buruk'))\n",
        "\n",
        "engine.run()"
      ]
    },
    {
      "cell_type": "code",
      "execution_count": 11,
      "metadata": {
        "colab": {
          "base_uri": "https://localhost:8080/"
        },
        "id": "PpEqyURJbOUa",
        "outputId": "f23411ed-edfc-4ee5-9500-4ac97bc3e312"
      },
      "outputs": [
        {
          "output_type": "stream",
          "name": "stdout",
          "text": [
            "Inferred facts: {'has_feathers', 'has_beak', 'is_bird'}\n"
          ]
        }
      ],
      "source": [
        "def forward_chaining(facts, rules):\n",
        "    inferred = set(facts)\n",
        "    changed = True\n",
        "\n",
        "    while changed:\n",
        "        changed = False\n",
        "        for rule in rules:\n",
        "            if rule[\"if\"].issubset(inferred) and rule[\"then\"] not in inferred:\n",
        "                inferred.add(rule[\"then\"])\n",
        "                changed = True\n",
        "    return inferred\n",
        "\n",
        "facts = {\"has_feathers\", \"has_beak\"}\n",
        "rules = [\n",
        "    {\"if\": {\"has_feathers\", \"has_beak\"}, \"then\": \"is_bird\"},\n",
        "    {\"if\": {\"lays_eggs\", \"is_bird\"}, \"then\": \"is_chicken\"},\n",
        "    {\"if\": {\"cannot_fly\", \"is_bird\"}, \"then\": \"is_penguin\"},\n",
        "    {\"if\": {\"carnivore\", \"is_bird\"}, \"then\": \"is_eagle\"}\n",
        "]\n",
        "\n",
        "result = forward_chaining(facts, rules)\n",
        "print(\"Inferred facts:\", result)\n"
      ]
    },
    {
      "cell_type": "markdown",
      "metadata": {
        "id": "QccPt7VYjsrx"
      },
      "source": [
        "**Backward Chaining**"
      ]
    },
    {
      "cell_type": "code",
      "execution_count": 12,
      "metadata": {
        "colab": {
          "base_uri": "https://localhost:8080/"
        },
        "id": "EefiBp7IjsJ7",
        "outputId": "ba1ccc5c-bc7d-458b-c105-66bdd2c60c94"
      },
      "outputs": [
        {
          "output_type": "stream",
          "name": "stdout",
          "text": [
            "You qualify to be a Doctor!\n"
          ]
        }
      ],
      "source": [
        "from experta import *\n",
        "\n",
        "class CareerExpert(KnowledgeEngine):\n",
        "\n",
        "    @Rule(Fact(career=\"Software Engineer\"),\n",
        "          Fact(logic=True), Fact(math=True), Fact(coding=True))\n",
        "    def software_engineer(self):\n",
        "        print(\"You qualify to be a Software Engineer!\")\n",
        "\n",
        "    @Rule(Fact(career=\"Doctor\"),\n",
        "          Fact(medical=True), Fact(science=True), Fact(problem_solving=True))\n",
        "    def doctor(self):\n",
        "        print(\"You qualify to be a Doctor!\")\n",
        "\n",
        "# Running the Expert System\n",
        "engine = CareerExpert()\n",
        "engine.reset()\n",
        "\n",
        "# Set a goal: Check if the user can be a Software Engineer\n",
        "engine.declare(Fact(career=\"Doctor\"))\n",
        "engine.declare(Fact(medical=True))\n",
        "engine.declare(Fact(science=True))\n",
        "engine.declare(Fact(problem_solving=True))  # Skills possessed\n",
        "\n",
        "engine.run()"
      ]
    },
    {
      "cell_type": "code",
      "execution_count": 13,
      "metadata": {
        "colab": {
          "base_uri": "https://localhost:8080/"
        },
        "id": "qlKZwvJPAdz_",
        "outputId": "c934df99-3a3b-428f-d22b-d6ccc627e909"
      },
      "outputs": [
        {
          "output_type": "stream",
          "name": "stdout",
          "text": [
            "Is 'data_engineer' provable? -> True\n"
          ]
        }
      ],
      "source": [
        "def backward_chaining(goal, facts, rules):\n",
        "    if goal in facts:\n",
        "        return True\n",
        "    for rule in rules:\n",
        "        if rule[\"then\"] == goal:\n",
        "            if all(backward_chaining(cond, facts, rules) for cond in rule[\"if\"]):\n",
        "                return True\n",
        "    return False\n",
        "\n",
        "facts = {\"likes_computers\", \"solves_problems\", \"likes_to_manage_data\"}\n",
        "rules = [\n",
        "    {\"if\": {\"likes_computers\", \"solves_problems\"}, \"then\": \"should_be_engineer\"},\n",
        "    {\"if\": {\"should_be_engineer\", \"likes_programming\"}, \"then\": \"software_engineer\"},\n",
        "    {\"if\": {\"should_be_engineer\", \"likes_to_design\"}, \"then\": \"UI/UX_engineer\"},\n",
        "    {\"if\": {\"should_be_engineer\", \"likes_to_manage_data\"}, \"then\": \"data_engineer\"}\n",
        "]\n",
        "\n",
        "goal = \"data_engineer\"\n",
        "result = backward_chaining(goal, facts, rules)\n",
        "print(f\"Is '{goal}' provable? ->\", result)\n"
      ]
    },
    {
      "cell_type": "markdown",
      "metadata": {
        "id": "K0KiKcwpblqe"
      },
      "source": [
        "SOAL Forward Chaining\n",
        "\n",
        "buatlah 2 variable (facts dan rules)\n",
        "\n",
        "Facts: has_wheels, has_engine, has_four_wheels\n",
        "Rules:\n",
        "\n",
        "    If has_wheels and has_engine → is_vehicle\n",
        "\n",
        "    If is_vehicle and has_two_wheels → is_motorcycle\n",
        "\n",
        "    If is_vehicle and has_four_wheels → is_car\n",
        "\n",
        "panggil fungsi forward_chaining dan print hasil inferensi nya"
      ]
    },
    {
      "cell_type": "code",
      "execution_count": 14,
      "metadata": {
        "id": "VzgsnI3zQUaX"
      },
      "outputs": [],
      "source": [
        "def forward_chaining(facts, rules):\n",
        "    inferred = set(facts)\n",
        "    changed = True\n",
        "\n",
        "    while changed:\n",
        "        changed = False\n",
        "        for rule in rules:\n",
        "            if rule[\"if\"].issubset(inferred) and rule[\"then\"] not in inferred:\n",
        "                inferred.add(rule[\"then\"])\n",
        "                changed = True\n",
        "    return inferred\n",
        "\n"
      ]
    },
    {
      "cell_type": "code",
      "execution_count": 15,
      "metadata": {
        "id": "_H9oRQelbqOv"
      },
      "outputs": [],
      "source": [
        "def forward_chaining(facts, rules):\n",
        "    inferred = set(facts)\n",
        "    changed = True\n",
        "\n",
        "    while changed:\n",
        "        changed = False\n",
        "        for rule in rules:\n",
        "            if rule[\"if\"].issubset(inferred) and rule[\"then\"] not in inferred:\n",
        "                inferred.add(rule[\"then\"])\n",
        "                changed = True\n",
        "    return inferred\n",
        "\n",
        "\n",
        "\n"
      ]
    },
    {
      "cell_type": "markdown",
      "metadata": {
        "id": "tDPWjxHYcSFx"
      },
      "source": [
        "SOAL Backward Chaining\n",
        "\n",
        "buatlah 3 variable goal, facts, rules\n",
        "\n",
        "Goal: is_penguin\n",
        "Rules:\n",
        "\n",
        "    If is_bird and cannot_fly → is_penguin\n",
        "\n",
        "    If has_feathers → is_bird\n",
        "\n",
        "    If has_small_wings → cannot_fly\n",
        "    Facts: has_feathers, has_small_wings"
      ]
    },
    {
      "cell_type": "code",
      "execution_count": 16,
      "metadata": {
        "id": "3eL6nayWcp6c"
      },
      "outputs": [],
      "source": [
        "def backward_chaining(goal, facts, rules):\n",
        "    if goal in facts:\n",
        "        return True\n",
        "    for rule in rules:\n",
        "        if rule[\"then\"] == goal:\n",
        "            if all(backward_chaining(cond, facts, rules) for cond in rule[\"if\"]):\n",
        "                return True\n",
        "    return False\n",
        "\n"
      ]
    }
  ],
  "metadata": {
    "colab": {
      "provenance": []
    },
    "kernelspec": {
      "display_name": "Python 3",
      "name": "python3"
    },
    "language_info": {
      "name": "python"
    }
  },
  "nbformat": 4,
  "nbformat_minor": 0
}